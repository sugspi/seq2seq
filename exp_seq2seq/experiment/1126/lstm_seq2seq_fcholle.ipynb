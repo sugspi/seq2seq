{
 "cells": [
  {
   "cell_type": "code",
   "execution_count": 91,
   "metadata": {
    "collapsed": false
   },
   "outputs": [
    {
     "ename": "SyntaxError",
     "evalue": "invalid syntax (<ipython-input-91-1c8c0c93471c>, line 2)",
     "output_type": "error",
     "traceback": [
      "\u001b[0;36m  File \u001b[0;32m\"<ipython-input-91-1c8c0c93471c>\"\u001b[0;36m, line \u001b[0;32m2\u001b[0m\n\u001b[0;31m    - We start with input sequences from a domain (e.g. English sentences)\u001b[0m\n\u001b[0m             ^\u001b[0m\n\u001b[0;31mSyntaxError\u001b[0m\u001b[0;31m:\u001b[0m invalid syntax\n"
     ]
    }
   ],
   "source": [
    "# Summary of the algorithm\n",
    "- We start with input sequences from a domain (e.g. English sentences)\n",
    "    and correspding target sequences from another domain\n",
    "    (e.g. French sentences).\n",
    "- An encoder LSTM turns input sequences to 2 state vectors\n",
    "    (we keep the last LSTM state and discard the outputs).\n",
    "- A decoder LSTM is trained to turn the target sequences into\n",
    "    the same sequence but offset by one timestep in the future,\n",
    "    a training process called \"teacher forcing\" in this context.\n",
    "    Is uses as initial state the state vectors from the encoder.\n",
    "    Effectively, the decoder learns to generate `targets[t+1...]`\n",
    "    given `targets[...t]`, conditioned on the input sequence.\n",
    "- In inference mode, when we want to decode unknown input sequences, we:\n",
    "    - Encode the input sequence into state vectors\n",
    "    - Start with a target sequence of size 1\n",
    "        (just the start-of-sequence character)\n",
    "    - Feed the state vectors and 1-char target sequence\n",
    "        to the decoder to produce predictions for the next character\n",
    "    - Sample the next character using these predictions\n",
    "        (we simply use argmax).\n",
    "    - Append the sampled character to the target sequence\n",
    "    - Repeat until we generate the end-of-sequence character or we\n",
    "        hit the character limit."
   ]
  },
  {
   "cell_type": "code",
   "execution_count": 1,
   "metadata": {
    "collapsed": false
   },
   "outputs": [
    {
     "name": "stderr",
     "output_type": "stream",
     "text": [
      "Using TensorFlow backend.\n"
     ]
    }
   ],
   "source": [
    "from __future__ import print_function\n",
    "\n",
    "from keras.models import Model\n",
    "from keras.models import load_model\n",
    "from keras.layers import Input, LSTM, Dense\n",
    "import keras\n",
    "from keras.utils.vis_utils import plot_model\n",
    "\n",
    "\n",
    "from sklearn.model_selection import train_test_split\n",
    "\n",
    "import numpy as np\n",
    "import json"
   ]
  },
  {
   "cell_type": "code",
   "execution_count": 2,
   "metadata": {
    "collapsed": true
   },
   "outputs": [],
   "source": [
    "batch_size = 64  # Batch size for training.\n",
    "epochs = 100  # Number of epochs to train for.\n",
    "latent_dim = 256  # Latent dimensionality of the encoding space.\n",
    "num_samples = 10000  # Number of samples to train on.\n",
    "# Path to the data txt file on disk.\n",
    "data_path = '/Users/guru/MyResearch/sg/snli/json/snli_inp_1024.json'"
   ]
  },
  {
   "cell_type": "code",
   "execution_count": 3,
   "metadata": {
    "collapsed": false
   },
   "outputs": [
    {
     "name": "stdout",
     "output_type": "stream",
     "text": [
      "Number of samples: 19899\n",
      "Number of unique input tokens: 74\n",
      "Number of unique output tokens: 77\n",
      "Max sequence length for inputs: 2428\n",
      "Max sequence length for outputs: 267\n"
     ]
    }
   ],
   "source": [
    "# Vectorize the data.\n",
    "input_texts = []\n",
    "target_texts = []\n",
    "input_characters = set()\n",
    "target_characters = set()\n",
    "lines = open(data_path)#.read().split('\\n')\n",
    "\n",
    "#json ver \n",
    "jdict = json.load(lines)\n",
    "\n",
    "for line in jdict:\n",
    "    input_text = (jdict[line])['formula']\n",
    "    target_text = (jdict[line])['text']\n",
    "    # We use \"tab\" as the \"start sequence\" character\n",
    "    # for the targets, and \"\\n\" as \"end sequence\" character.\n",
    "    target_text = '\\t' + target_text + '\\n'\n",
    "    input_texts.append(input_text)\n",
    "    target_texts.append(target_text)\n",
    "    for char in input_text:\n",
    "        if char not in input_characters:\n",
    "            input_characters.add(char)\n",
    "    for char in target_text:\n",
    "        if char not in target_characters:\n",
    "            target_characters.add(char)\n",
    "            \n",
    "input_characters = sorted(list(input_characters))\n",
    "target_characters = sorted(list(target_characters))\n",
    "num_encoder_tokens = len(input_characters)\n",
    "num_decoder_tokens = len(target_characters)\n",
    "max_encoder_seq_length = max([len(txt) for txt in input_texts])\n",
    "max_decoder_seq_length = max([len(txt) for txt in target_texts])\n",
    "\n",
    "print('Number of samples:', len(input_texts))\n",
    "print('Number of unique input tokens:', num_encoder_tokens)\n",
    "print('Number of unique output tokens:', num_decoder_tokens)\n",
    "print('Max sequence length for inputs:', max_encoder_seq_length)\n",
    "print('Max sequence length for outputs:', max_decoder_seq_length)\n",
    "\n",
    "\n",
    "input_token_index = dict(\n",
    "    [(char, i) for i, char in enumerate(input_characters)])\n",
    "target_token_index = dict(\n",
    "    [(char, i) for i, char in enumerate(target_characters)])\n",
    "\n",
    "#np.zeros 0を要素とする配列(shape, dtype = float, order = ‘C’)　３次元\n",
    "encoder_input_data = np.zeros(\n",
    "    (len(input_texts), max_encoder_seq_length, num_encoder_tokens),\n",
    "    dtype='float32')\n",
    "decoder_input_data = np.zeros(\n",
    "    (len(input_texts), max_decoder_seq_length, num_decoder_tokens),\n",
    "    dtype='float32')\n",
    "decoder_target_data = np.zeros(\n",
    "    (len(input_texts), max_decoder_seq_length, num_decoder_tokens),\n",
    "    dtype='float32')\n",
    "\n",
    "\n",
    "for i, (input_text, target_text) in enumerate(zip(input_texts, target_texts)):\n",
    "    for t, char in enumerate(input_text):\n",
    "        encoder_input_data[i, t, input_token_index[char]] = 1.\n",
    "    for t, char in enumerate(target_text):\n",
    "        # decoder_target_data is ahead of decoder_input_data by one timestep\n",
    "        decoder_input_data[i, t, target_token_index[char]] = 1.\n",
    "        if t > 0:\n",
    "            # decoder_target_data will be ahead by one timestep\n",
    "            # and will not include the start character.\n",
    "            decoder_target_data[i, t - 1, target_token_index[char]] = 1."
   ]
  },
  {
   "cell_type": "code",
   "execution_count": 4,
   "metadata": {
    "collapsed": false
   },
   "outputs": [],
   "source": [
    "# Define an input sequence and process it.\n",
    "encoder_inputs = Input(shape=(None, num_encoder_tokens))\n",
    "encoder = LSTM(latent_dim, return_state=True)\n",
    "encoder_outputs, state_h, state_c = encoder(encoder_inputs)\n",
    "# We discard `encoder_outputs` and only keep the states.\n",
    "encoder_states = [state_h, state_c]\n",
    "\n",
    "# Set up the decoder, using `encoder_states` as initial state.\n",
    "decoder_inputs = Input(shape=(None, num_decoder_tokens))\n",
    "# We set up our decoder to return full output sequences,\n",
    "# and to return internal states as well. We don't use the\n",
    "# return states in the training model, but we will use them in inference.\n",
    "decoder_lstm = LSTM(latent_dim, return_sequences=True, return_state=True)\n",
    "decoder_outputs, _, _ = decoder_lstm(decoder_inputs,\n",
    "                                     initial_state=encoder_states)\n",
    "decoder_dense = Dense(num_decoder_tokens, activation='softmax')\n",
    "decoder_outputs = decoder_dense(decoder_outputs)"
   ]
  },
  {
   "cell_type": "code",
   "execution_count": 5,
   "metadata": {
    "collapsed": false
   },
   "outputs": [],
   "source": [
    "#callback function and parameter search\n",
    "\n",
    "earlystop =keras.callbacks.EarlyStopping(monitor='val_loss', patience=0, verbose=0, mode='auto')\n",
    "            #keras.callbacks.EarlyStopping(monitor='loss', min_delta=0.0001, patience=10, verbose=0, mode='auto')\n",
    "tensorboard = keras.callbacks.TensorBoard(log_dir='logs',write_images=True,write_graph=True,)\n",
    "\n",
    "#トレーニングデータ，テストデータ分割\n",
    "#data_train, data_test, label_train, label_test = train_test_split(bow, labels_list, test_size=0.5)"
   ]
  },
  {
   "cell_type": "code",
   "execution_count": null,
   "metadata": {
    "collapsed": false
   },
   "outputs": [
    {
     "name": "stdout",
     "output_type": "stream",
     "text": [
      "Train on 15919 samples, validate on 3980 samples\n",
      "Epoch 1/100\n",
      "  448/15919 [..............................] - ETA: 49:53 - loss: 0.7427"
     ]
    }
   ],
   "source": [
    "\n",
    "# Define the model that will turn\n",
    "# `encoder_input_data` & `decoder_input_data` into `decoder_target_data`\n",
    "\n",
    "model = Model([encoder_inputs, decoder_inputs], decoder_outputs)\n",
    "#plot_model(model, to_file='model.png')\n",
    "# Run training\n",
    "model.compile(optimizer='rmsprop', loss='categorical_crossentropy')\n",
    "model.fit([encoder_input_data, decoder_input_data], decoder_target_data,\n",
    "          batch_size=batch_size,\n",
    "          epochs=epochs,\n",
    "          validation_split=0.2,\n",
    "          callbacks=[earlystop,tensorboard])\n",
    "\n",
    "# Save model\n",
    "model.save('model/train/s2s_1127_snli_ccg.h5')"
   ]
  },
  {
   "cell_type": "code",
   "execution_count": 5,
   "metadata": {
    "collapsed": false
   },
   "outputs": [
    {
     "name": "stdout",
     "output_type": "stream",
     "text": [
      "Number of samples: 1\n"
     ]
    }
   ],
   "source": [
    "# choose input data version\n",
    "input_texts_inf = []\n",
    "lines = open('predict.txt').read().split('\\n')\n",
    "\n",
    "for line in lines[: min(num_samples, len(lines) - 1)]:\n",
    "    input_text_inf = line\n",
    "    input_texts_inf.append(input_text_inf)\n",
    "            \n",
    "print('Number of samples:', len(input_texts_inf))\n",
    "\n",
    "\n",
    "#np.zeros 0を要素とする配列(shape, dtype = float, order = ‘C’)　３次元\n",
    "encoder_input_data_inf = np.zeros(\n",
    "    (len(input_texts_inf), max_encoder_seq_length, num_encoder_tokens),\n",
    "    dtype='float32')\n",
    "\n",
    "\n",
    "for i, input_text_inf in enumerate(input_texts_inf):\n",
    "    for t, char in enumerate(input_text_inf):\n",
    "        encoder_input_data_inf[i, t, input_token_index[char]] = 1.\n",
    "       "
   ]
  },
  {
   "cell_type": "code",
   "execution_count": 7,
   "metadata": {
    "collapsed": false
   },
   "outputs": [
    {
     "name": "stderr",
     "output_type": "stream",
     "text": [
      "/Users/guru/.pyenv/versions/3.5.1/lib/python3.5/site-packages/keras/models.py:251: UserWarning: No training configuration found in save file: the model was *not* compiled. Compile it manually.\n",
      "  warnings.warn('No training configuration found in save file: '\n"
     ]
    }
   ],
   "source": [
    "# Next: inference mode (sampling).\n",
    "# Here's the drill:\n",
    "# 1) encode input and retrieve initial decoder state\n",
    "# 2) run one step of decoder with this initial state\n",
    "# and a \"start of sequence\" token as target.\n",
    "# Output will be the next target token\n",
    "# 3) Repeat with the current target token and current states\n",
    "\n",
    "model = load_model('s2s.h5')\n",
    "# Define sampling models\n",
    "\n",
    "encoder_model = load_model('encoder.h5')\n",
    "#encoder_model = Model(encoder_inputs, encoder_states)\n",
    "#encoder_model.save('model/encoder/s2s_1117_snli_ccg_10.h5')\n",
    "\n",
    "\n",
    "decoder_model = load_model('decoder.h5')\n",
    "#decoder_state_input_h = Input(shape=(latent_dim,))\n",
    "#decoder_state_input_c = Input(shape=(latent_dim,))\n",
    "#decoder_states_inputs = [decoder_state_input_h, decoder_state_input_c]\n",
    "#decoder_outputs, state_h, state_c = decoder_lstm(\n",
    "#    decoder_inputs, initial_state=decoder_states_inputs)\n",
    "#decoder_states = [state_h, state_c]\n",
    "#decoder_outputs = decoder_dense(decoder_outputs)\n",
    "#decoder_model = Model(\n",
    "#    [decoder_inputs] + decoder_states_inputs,\n",
    "#    [decoder_outputs] + decoder_states)\n",
    "#decoder_model.save('model/decoder/s2s_1117_snli_ccg_10.h5')\n",
    "\n",
    "# Reverse-lookup token index to decode sequences back to\n",
    "# something readable.\n",
    "reverse_input_char_index = dict(\n",
    "    (i, char) for char, i in input_token_index.items())\n",
    "\n",
    "reverse_target_char_index = dict(\n",
    "    (i, char) for char, i in target_token_index.items())"
   ]
  },
  {
   "cell_type": "code",
   "execution_count": 8,
   "metadata": {
    "collapsed": true
   },
   "outputs": [],
   "source": [
    "def decode_sequence(input_seq):\n",
    "    # Encode the input as state vectors.\n",
    "    states_value = encoder_model.predict(input_seq)\n",
    "\n",
    "    # Generate empty target sequence of length 1.\n",
    "    target_seq = np.zeros((1, 1, num_decoder_tokens))\n",
    "    # Populate the first character of target sequence with the start character.\n",
    "    target_seq[0, 0, target_token_index['\\t']] = 1.\n",
    "\n",
    "    # Sampling loop for a batch of sequences\n",
    "    # (to simplify, here we assume a batch of size 1).\n",
    "    stop_condition = False\n",
    "    decoded_sentence = ''\n",
    "    while not stop_condition:\n",
    "        output_tokens, h, c = decoder_model.predict(\n",
    "            [target_seq] + states_value)\n",
    "\n",
    "        # Sample a token\n",
    "        sampled_token_index = np.argmax(output_tokens[0, -1, :])\n",
    "        sampled_char = reverse_target_char_index[sampled_token_index]\n",
    "        decoded_sentence += sampled_char\n",
    "\n",
    "        # Exit condition: either hit max length\n",
    "        # or find stop character.\n",
    "        if (sampled_char == '\\n' or\n",
    "           len(decoded_sentence) > max_decoder_seq_length):\n",
    "            stop_condition = True\n",
    "\n",
    "        # Update the target sequence (of length 1).\n",
    "        target_seq = np.zeros((1, 1, num_decoder_tokens))\n",
    "        target_seq[0, 0, sampled_token_index] = 1.\n",
    "\n",
    "        # Update states\n",
    "        states_value = [h, c]\n",
    "\n",
    "    return decoded_sentence\n"
   ]
  },
  {
   "cell_type": "code",
   "execution_count": null,
   "metadata": {
    "collapsed": false,
    "scrolled": false
   },
   "outputs": [
    {
     "name": "stdout",
     "output_type": "stream",
     "text": [
      "-\n",
      "Input sentence: exists x.(_people(x) & _two(x) & TrueP & exists e.(_sing(e) & (Subj(e) = x) & TrueP))\n",
      "Decoded sentence:  The man is sitting in the background.\n",
      "\n",
      "-\n",
      "Input sentence: exists x.((x = _they) & TrueP & exists z16772.(_outdoors(z16772) & TrueP & (x = z16772)))\n",
      "Decoded sentence:  The man is sitting in the background.\n",
      "\n",
      "-\n",
      "Input sentence: exists x.(exists e.(_asian(e) & (Subj(e) = x) & _man(x)) & TrueP & exists e.(_stand(e) & (Subj(e) = x) & exists z47870.(exists e047863.(_rusty(e047863) & (Subj(e047863) = z47870) & _dock(z47870)) & exists e047864.(_surround(e047864) & (Acc(e047864) = z47870) & exists z47862.(_rope(z47862) & TrueP & (Subj(e047864) = z47862) & TrueP) & exists z47862.(_tire(z47862) & TrueP & (Subj(e047864) = z47862) & TrueP)) & TrueP & _on(e,z47870) & TrueP)) & exists z47865.(_pole(z47865) & _fishing(z47865) & TrueP & exists e.(_stick(e) & (Subj(e) = x) & (Acc(e) = z47865) & exists z47868.(_water(z47868) & TrueP & _into(e,z47868) & exists z47868.(_front(z47868) & exists z47866.((z47866 = _he) & TrueP & (z47868 = z47866)) & TrueP & _in(e,z47868) & TrueP)))))\n",
      "Decoded sentence:  The man is sitting in the background.\n",
      "\n",
      "-\n",
      "Input sentence: exists x.(_man(x) & TrueP & exists e.(_look(e) & (Subj(e) = x) & exists x.(_woman(x) & exists e032229.(_smoke(e032229) & (Subj(e032229) = x) & exists z32228.(_sidewalk(z32228) & TrueP & _on(e032229,z32228)) & TrueP) & TrueP & _at(e,x)) & TrueP))\n",
      "Decoded sentence:  The man is sitting in the background.\n",
      "\n",
      "-\n",
      "Input sentence: exists x.(exists e.(_older(e) & (Subj(e) = x) & _man(x)) & TrueP & exists e.(_talk(e) & (Subj(e) = x) & exists x.(_man(x) & TrueP & (Dat(e) = x)) & TrueP))\n",
      "Decoded sentence:  The man is sitting in the background.\n",
      "\n",
      "-\n",
      "Input sentence: exists x.(_trio(x) & exists z9253.(_woman(z9253) & TrueP & (x = z9253)) & TrueP & exists z9256.(_picture(z9256) & exists e.(_take(e) & (Acc(e) = z9256) & TrueP) & TrueP & exists e.(_get(e) & (Subj(e) = x) & (Acc(e) = z9256) & TrueP)))\n",
      "Decoded sentence:  The man is sitting in the background.\n",
      "\n",
      "-\n",
      "Input sentence: exists x.(_people(x) & TrueP & exists e.(_wait(e) & (Subj(e) = x) & AccI(e,exists x.(_boat(x) & TrueP & exists e.(_arrive(e) & (Subj(e) = x) & TrueP) & exists z26514.((z26514 = _they) & TrueP & exists z26511.(_cruise(z26511) & TrueP & exists e.(_start(e) & (Subj(e) = z26514) & (Acc(e) = z26511) & _can(e) & TrueP))))) & TrueP))\n",
      "Decoded sentence:  The man is sitting in the background.\n",
      "\n",
      "-\n",
      "Input sentence: exists x.(exists e.(_old(e) & (Subj(e) = x) & _man(x)) & TrueP & exists e.(_jog(e) & (Subj(e) = x) & exists x.(_street(x) & TrueP & _along(e,x)) & TrueP))\n",
      "Decoded sentence:  The man is sitting in the background.\n",
      "\n",
      "-\n",
      "Input sentence: -exists x.(TrueP & exists z56139.(_wrench(z56139) & TrueP & exists e.(_have(e) & (Subj(e) = x) & (Acc(e) = z56139) & TrueP)))\n",
      "Decoded sentence:  The man is sitting in the background.\n",
      "\n",
      "-\n",
      "Input sentence: exists x.(exists e.(_older(e) & (Subj(e) = x) & _woman(x)) & TrueP & exists e.(_appear(e) & (Subj(e) = x) & AccI(e,(exists e.(_read(e) & (Subj(e) = x) & exists z15958.(exists z15952.(_child(z15952) & TrueP & Rel(z15958,z15952)) & _book(z15958) & exists z15953.(exists e015954.(_indoor(e015954) & (Subj(e015954) = z15953) & _setting(z15953)) & TrueP & exists e015955.(_in(e015955,z15953) & (Subj(e015955) = z15958) & TrueP)) & _from(e,z15958) & TrueP)) & exists z15959.(exists e.(_seat(e) & (Acc(e) = z15959) & _gentleman(z15959)) & exists z15956.(_uniform(z15956) & _service(z15956) & TrueP & exists e.(_in(e,z15956) & (Subj(e) = z15959) & TrueP)) & exists e.(_on(e) & (Subj(e) = z15959) & _look(e) & TrueP)))) & TrueP))\n",
      "Decoded sentence:  The man is sitting in the background.\n",
      "\n",
      "-\n",
      "Input sentence: exists x.(_woman(x) & exists z2673.(exists e.(_black(e) & (Subj(e) = z2673) & exists e.(_high(e) & (Subj(e) = z2673) & _heel(z2673))) & TrueP & exists e.(_in(e,z2673) & (Subj(e) = x) & TrueP)) & exists z2674.(exists e.(_large(e) & (Subj(e) = z2674) & _staircase(z2674)) & TrueP & exists e.(_walk(e) & (Subj(e) = x) & (Acc(e) = z2674) & _down(e) & TrueP)))\n",
      "Decoded sentence:  The man is sitting in the background.\n",
      "\n",
      "-\n",
      "Input sentence: exists x.(exists e.(_blond(e) & (Subj(e) = x) & _woman(x)) & TrueP & exists z3594.(_profile(z3594) & exists z3593.(_front(z3593) & exists z3592.(exists e.(_white(e) & (Subj(e) = z3592) & _car(z3592) & _luxury(z3592)) & TrueP & (z3593 = z3592)) & TrueP & exists e.(_in(e,z3593) & (Subj(e) = z3594) & TrueP)) & exists e.(_show(e) & (Subj(e) = x) & (Acc(e) = z3594) & TrueP)))\n",
      "Decoded sentence:  The man is sitting in the background.\n",
      "\n",
      "-\n",
      "Input sentence: exists x.(_sing(x) & _woman(x) & TrueP & TrueP)\n",
      "Decoded sentence:  The man is sitting in the background.\n",
      "\n",
      "-\n",
      "Input sentence: exists x.(_child(x) & TrueP & exists e.(_play(e) & (Subj(e) = x) & exists x.(_mortar(x) & TrueP & _with(e,x) & TrueP) & exists x.(_pistil(x) & TrueP & _with(e,x) & TrueP)))\n",
      "Decoded sentence:  The man is sitting in the background.\n",
      "\n",
      "-\n",
      "Input sentence: exists x.(_bunch(x) & exists z19355.(_driver(z19355) & TrueP & (x = z19355)) & exists z19356.(_lot(z19356) & _parking(z19356) & TrueP & exists e.(_in(e,z19356) & (Subj(e) = x) & TrueP)) & TrueP)\n",
      "Decoded sentence:  The man is sitting in the background.\n",
      "\n",
      "-\n",
      "Input sentence: exists x.(_people(x) & TrueP & exists z49180.(exists e.(_rugby(e) & (Subj(e) = z49180) & _game(z49180)) & TrueP & exists e.(_play(e) & (Subj(e) = x) & (Acc(e) = z49180) & TrueP)))\n",
      "Decoded sentence:  The man is sitting in the background.\n",
      "\n",
      "-\n",
      "Input sentence: exists x.(_man(x) & _two(x) & TrueP & exists e.(_work(e) & (Subj(e) = x) & (exists z2065.(_computer(z2065) & TrueP & _on(e,z2065)) | exists z2065.(_equipment(z2065) & TrueP & _on(e,z2065))) & TrueP) & exists e.(exists z2067.(_workshop(z2067) & _electronics(z2067) & TrueP & _in(e,z2067)) & (Subj(e) = x) & TrueP))\n",
      "Decoded sentence:  The man is sitting in the background.\n",
      "\n",
      "-\n",
      "Input sentence: exists x.(exists e.(_black(e) & (Subj(e) = x) & _leap(x) & _dog(x)) & exists z53692.(_water(z53692) & exists z53691.(exists e.(_wood(e) & (Acc(e) = z53691) & _shoreline(z53691)) & TrueP & exists e.(_near(e,z53691) & (Subj(e) = z53692) & TrueP)) & exists e.(_from(e,z53692) & (Subj(e) = x) & TrueP)) & TrueP)\n",
      "Decoded sentence:  The man is sitting in the background.\n",
      "\n",
      "-\n",
      "Input sentence: exists x.(_player(x) & _soccer(x) & TrueP & exists e.(_show(e) & (Subj(e) = x) & _off(e) & TrueP))\n",
      "Decoded sentence:  The man is sitting in the background.\n",
      "\n",
      "-\n",
      "Input sentence: exists x.(_people(x) & _two(x) & TrueP & exists z24289.(_textbook(z24289) & TrueP & exists e.(_reference(e) & (Subj(e) = x) & (Acc(e) = z24289) & exists x.(_laboratory(x) & TrueP & _in(e,x) & TrueP))))\n",
      "Decoded sentence:  The man is sitting in the background.\n",
      "\n",
      "-\n",
      "Input sentence: exists x.(exists e.(_young(e) & (Subj(e) = x) & _girl(x)) & exists z4674.(exists e.(_pink(e) & (Subj(e) = z4674) & _coat(z4674)) & TrueP & exists e.(_wear(e) & (Subj(e) = x) & (Acc(e) = z4674) & TrueP)) & TrueP & exists e.(_play(e) & (Subj(e) = x) & exists x.(exists e04677.(_yellow(e04677) & (Subj(e04677) = x) & _club(x) & _golf(x) & _toy(x)) & TrueP & _with(e,x)) & TrueP))\n",
      "Decoded sentence:  The man is sitting in the background.\n",
      "\n",
      "-\n",
      "Input sentence: exists x.(_woman(x) & exists z24610.(_hand(z24610) & _red_dash_hair(z24610) & _hold(z24610) & TrueP & TrueP & exists e.(_with(e,z24610) & (Subj(e) = x) & exists z24612.(_mouth(z24612) & exists z24611.(exists e.(_absolute(e) & (Subj(e) = z24611) & _silence(z24611)) & TrueP & exists e.(_in(e,z24611) & (Subj(e) = z24612) & TrueP)) & exists e.(_over(e,z24612) & (Subj(e) = x) & TrueP)))) & TrueP)\n",
      "Decoded sentence:  The man is sitting in the background.\n",
      "\n",
      "-\n",
      "Input sentence: exists x.(_people(x) & exists e.(_stand(e) & (Subj(e) = x) & exists z1216.(_line(z1216) & exists z1214.(_line(z1214) & _curry(z1214) & _beer(z1214) & TrueP & (z1216 = z1214)) & TrueP & _in(e,z1216) & TrueP)) & TrueP & TrueP)\n",
      "Decoded sentence:  The man is sitting in the background.\n",
      "\n",
      "-\n",
      "Input sentence: exists x.(exists e.(_young(e) & (Subj(e) = x) & _people(x)) & TrueP & exists e.(_rest(e) & (Subj(e) = x) & TrueP) & exists e.(_wait(e) & (Subj(e) = x) & TrueP) & exists e.(_sit(e) & (Subj(e) = x) & exists z33063.(exists e033054.(_plastic(e033054) & (Subj(e033054) = z33063) & _chair(z33063)) & exists e033055.(_arrange(e033055) & (Acc(e033055) = z33063) & exists z33053.(_set(z33053) & exists z33046.(_stair(z33046) & TrueP & (z33053 = z33046)) & TrueP & _around(e033055,z33053) & exists z33053.(exists e033050.(_covered(e033050) & (Subj(e033050) = z33053) & exists e033050.(_concrete(e033050) & (Subj(e033050) = z33053) & _area(z33053))) & exists z33047.(_clothes(z33047) & _swim(z33047) & TrueP & exists e033051.(_wear(e033051) & (Subj(e033051) = z33053) & (Acc(e033051) = z33047) & TrueP)) & TrueP & _in(e033055,z33053) & TrueP))) & TrueP & _in(e,z33063) & TrueP)))\n",
      "Decoded sentence:  The man is sitting in the background.\n",
      "\n",
      "-\n",
      "Input sentence: exists x.(_woman(x) & _brunette(x) & exists z4817.(exists e.(_multicolored(e) & (Subj(e) = z4817) & exists e.(_floral(e) & (Subj(e) = z4817) & _outfit(z4817))) & TrueP & exists e.(_in(e,z4817) & (Subj(e) = x) & TrueP)) & exists z4818.(_necklace(z4818) & _pearl(z4818) & TrueP & exists e.(_in(e,z4818) & (Subj(e) = x) & TrueP)) & exists e.(_talk(e) & (Subj(e) = x) & TrueP) & exists z4819.(_wineglass(z4819) & TrueP & exists e.(_hold(e) & (Subj(e) = x) & (Acc(e) = z4819) & TrueP)))\n",
      "Decoded sentence:  The man is sitting in the background.\n",
      "\n",
      "-\n",
      "Input sentence: exists x.(_man(x) & TrueP & exists e.(_drunk(e) & (Subj(e) = x) & TrueP))\n",
      "Decoded sentence:  The man is sitting in the background.\n",
      "\n",
      "-\n",
      "Input sentence: exists x.(exists e.(_older(e) & (Subj(e) = x) & _gentleman(x)) & TrueP & exists e.(_find(e) & (Subj(e) = x) & AccI(e,exists x.((x = _it) & TrueP & exists e.(_humorous(e) & (Subj(e) = x) & AccI(e,exists x.((x = _he) & TrueP & exists z419.(_picture(z419) & exists e.(_take(e) & (Acc(e) = z419) & TrueP) & exists z412.(_laundry(z412) & TrueP & exists e.(_do(e) & (Subj(e) = z419) & (Acc(e) = z412) & TrueP)) & TrueP & exists e.(_get(e) & (Subj(e) = x) & (Acc(e) = z419) & TrueP)))) & TrueP))) & TrueP))\n",
      "Decoded sentence:  The man is sitting in the background.\n",
      "\n",
      "-\n",
      "Input sentence: exists x.(_man(x) & exists z26384.(exists e.(_striped(e) & (Subj(e) = z26384) & _lady(z26384) & _shirt(z26384)) & TrueP & exists e.(_in(e,z26384) & (Subj(e) = x) & exists z26388.(exists e.(_black(e) & (Subj(e) = z26388) & _hat(z26388)) & exists z26385.(exists e.(_young(e) & (Subj(e) = z26385) & _band(z26385)) & TrueP & exists e.(_watch(e) & (Subj(e) = z26388) & (Acc(e) = z26385) & TrueP)) & TrueP & exists e.(_in(e,z26388) & (Subj(e) = x) & TrueP)))) & exists e.(_perform(e) & (Subj(e) = x) & exists x.(_stage(x) & TrueP & _on(e,x) & TrueP)))\n",
      "Decoded sentence:  The man is sitting in the background.\n",
      "\n"
     ]
    }
   ],
   "source": [
    "for seq_index in range(100):\n",
    "    # Take one sequence (part of the training test)\n",
    "    # for trying out decoding.\n",
    "    #input_seq = encoder_input_data[seq_index: seq_index + 1]\n",
    "    input_seq = encoder_input_data[seq_index: seq_index + 1]\n",
    "    decoded_sentence = decode_sequence(input_seq)\n",
    "    print('-')\n",
    "    print('Input sentence:', input_texts[seq_index])\n",
    "    print('Decoded sentence:', decoded_sentence)"
   ]
  },
  {
   "cell_type": "code",
   "execution_count": null,
   "metadata": {
    "collapsed": true
   },
   "outputs": [],
   "source": []
  },
  {
   "cell_type": "code",
   "execution_count": null,
   "metadata": {
    "collapsed": true
   },
   "outputs": [],
   "source": []
  }
 ],
 "metadata": {
  "kernelspec": {
   "display_name": "Python 3",
   "language": "python",
   "name": "python3"
  },
  "language_info": {
   "codemirror_mode": {
    "name": "ipython",
    "version": 3
   },
   "file_extension": ".py",
   "mimetype": "text/x-python",
   "name": "python",
   "nbconvert_exporter": "python",
   "pygments_lexer": "ipython3",
   "version": "3.5.1"
  }
 },
 "nbformat": 4,
 "nbformat_minor": 1
}
